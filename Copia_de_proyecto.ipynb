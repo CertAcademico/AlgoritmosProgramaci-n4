{
  "nbformat": 4,
  "nbformat_minor": 0,
  "metadata": {
    "colab": {
      "provenance": [],
      "authorship_tag": "ABX9TyN/nc02waOfXB+0wvmkKspJ",
      "include_colab_link": true
    },
    "kernelspec": {
      "name": "python3",
      "display_name": "Python 3"
    },
    "language_info": {
      "name": "python"
    }
  },
  "cells": [
    {
      "cell_type": "markdown",
      "metadata": {
        "id": "view-in-github",
        "colab_type": "text"
      },
      "source": [
        "<a href=\"https://colab.research.google.com/github/CertAcademico/AlgoritmosProgramaci-n4/blob/main/Copia_de_proyecto.ipynb\" target=\"_parent\"><img src=\"https://colab.research.google.com/assets/colab-badge.svg\" alt=\"Open In Colab\"/></a>"
      ]
    },
    {
      "cell_type": "markdown",
      "source": [
        "#  **Proyecto de algoritmos y programacion**\n",
        "#### Diccionario para almacenar el inventario de productos de nuestra marca MoShii, el cual se basa en la venta de bebidas.\n",
        "\n",
        "\n",
        "*   **Shirlena Berrio**\n",
        "*   **Moises Tineo**\n",
        "\n",
        "\n",
        "\n",
        "![Imagen de WhatsApp 2024-04-04 a las 21.47.01_f5d57729.jpg](data:image/jpeg;base64,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)"
      ],
      "metadata": {
        "id": "nc8MPzT8KdOY"
      }
    },
    {
      "cell_type": "markdown",
      "source": [
        "## Iniciacion del inventario\n",
        "\n",
        "\n",
        "*   En esta sección, se definen las columnas del inventario y se inicializa con\n",
        "  algunos productos.\n",
        "\n",
        "*   Se establecen las columnas como \"id\", \"nombre\", \"cantidad\" y \"precio\".\n",
        "\n",
        "*   Se crea un diccionario llamado inventario con algunos productos predefinidos, cada uno con un ID único, cantidad y precio.\n",
        "\n"
      ],
      "metadata": {
        "id": "Z21kFLEpN0aM"
      }
    },
    {
      "cell_type": "markdown",
      "source": [
        "## Definición de funciones\n",
        "\n",
        "\n",
        "*   En esta sección, se definen varias funciones que se utilizarán para interactuar con el inventario.\n",
        "\n",
        "*   **aumentar_id()** aumenta el ID para un nuevo producto en el inventario.\n",
        "*   **existe(nombre)** verifica si un producto existe en el inventario.\n",
        "\n",
        "*   **agregar_producto(nombre, cantidad, precio)** agrega un nuevo producto al inventario.\n",
        "\n",
        "*   **eliminar_producto(nombre)** elimina un producto del inventario.\n",
        "*   **mostrar_inventario()** muestra todos los productos en el inventario y calcula el total del valor del inventario.\n",
        "\n",
        "\n",
        "\n"
      ],
      "metadata": {
        "id": "BtCwrTH1Ulw4"
      }
    },
    {
      "cell_type": "markdown",
      "source": [
        "## Bucle principal y ejecución:\n",
        "\n",
        "\n",
        "*   En esta sección, se inicia un bucle principal que permite al usuario interactuar con el inventario.\n",
        "*   Se muestra un menú de opciones que incluye mostrar el inventario, agregar un producto, eliminar un producto y salir de la aplicación.\n",
        "*   Dependiendo de la opción seleccionada por el usuario, se llama a la función correspondiente para realizar la acción deseada en el inventario.\n",
        "\n",
        "\n",
        "\n",
        "\n"
      ],
      "metadata": {
        "id": "ov9xZcGoWG2n"
      }
    },
    {
      "cell_type": "code",
      "source": [
        "# Definición de las columnas del inventario\n",
        "columnas = [\"id\", \"nombre\", \"cantidad\", \"precio\"]\n",
        "\n",
        "# Inicialización del inventario con algunos productos predefinidos\n",
        "inventario = {\n",
        "    'Té Surtido Tetrapack 200ml x6und': {'id': 1, 'cantidad': 50, 'precio': 7450},\n",
        "    'Cerveza Lata 330ml x6und': {'id': 2, 'cantidad': 50, 'precio': 9000},\n",
        "    'Agua Pet 600ml x6und': {'id': 3, 'cantidad': 100, 'precio': 7200},\n",
        "    'Gaseosa Naranja Pet 250ml x6und': {'id': 4, 'cantidad': 80, 'precio': 9000},\n",
        "    'Agua Tónica Cero Vidrio 300ml x6und': {'id': 5, 'cantidad': 50, 'precio': 12000},\n",
        "    'Energizante Lata 250ml x4und': {'id': 6, 'cantidad': 40, 'precio': 26600},\n",
        "    'Avena bolsa 200ml x6und': {'id': 7, 'cantidad': 30, 'precio': 9250},\n",
        "    'JUgo Lulo Tetrapack 1L x1und': {'id': 8, 'cantidad': 40, 'precio': 4000},\n",
        "}\n",
        "\n",
        "# Función para aumentar el ID de un producto\n",
        "def aumentar_id():\n",
        "    nuevo_id = len(inventario) + 1\n",
        "    return nuevo_id\n",
        "\n",
        "# Función para verificar si un producto existe en el inventario\n",
        "def existe(nombre):\n",
        "    if nombre not in inventario:\n",
        "        print(\"El producto no existe en el inventario\")\n",
        "        return False\n",
        "    return True\n",
        "\n",
        "# Función para agregar un producto al inventario\n",
        "def agregar_producto(nombre, cantidad, precio):\n",
        "    if nombre not in inventario:\n",
        "        inventario[nombre] = {'id':aumentar_id(),'cantidad': cantidad, 'precio': precio}\n",
        "        print(f\"Producto '{nombre}' agregado al inventario.\")\n",
        "    else:\n",
        "        print(f\"El producto '{nombre}' ya existe en el inventario.\")\n",
        "\n",
        "# Función para eliminar un producto del inventario\n",
        "def eliminar_producto(nombre):\n",
        "    if nombre in inventario:\n",
        "        del inventario[nombre]\n",
        "        print(f\"Producto '{nombre}' eliminado del inventario.\")\n",
        "    else:\n",
        "        print(f\"El producto '{nombre}' no existe en el inventario.\")\n",
        "\n",
        "# Función para actualizar un producto en el inventario\n",
        "def actualizar_producto(nombre_actual, nuevo_nombre=None, nuevo_precio=None):\n",
        "    if nombre_actual in inventario:\n",
        "        producto = inventario.pop(nombre_actual)\n",
        "        if nuevo_nombre:\n",
        "            producto['nombre'] = nuevo_nombre\n",
        "        if nuevo_precio:\n",
        "            producto['precio'] = int(nuevo_precio)\n",
        "        inventario[nuevo_nombre] = producto\n",
        "        print(f\"Producto '{nombre_actual}' actualizado en el inventario.\")\n",
        "    else:\n",
        "        print(f\"El producto '{nombre_actual}' no existe en el inventario.\")\n",
        "\n",
        "# Función para mostrar todos los productos en el inventario\n",
        "def mostrar_inventario():\n",
        "    total_precio = 0\n",
        "    print(\"Productos en el inventario:\")\n",
        "    for nombre, producto in inventario.items():\n",
        "        print(f\"{producto['id']}|{nombre}|{producto['cantidad']}|{producto['precio']}\")\n",
        "        total_precio += producto['cantidad'] * producto['precio']\n",
        "    print(f\"Total del precio de los productos en el inventario: {total_precio}\")\n",
        "\n",
        "# Bucle principal para interactuar con el inventario\n",
        "while True:\n",
        "    print(\"------------------Bienvenidos a MoShii-------------------\")\n",
        "    print(\"-------------------Digita una opcion--------------\")\n",
        "    print(\"           Mostrar Inventario digita:  1\")\n",
        "    print(\"           Agregar Producto digita:    2\")\n",
        "    print(\"           Eliminar Producto digita:   3\")\n",
        "    print(\"           Actualizar Producto digita: 4\")\n",
        "    print(\"           Salir de la APP digita:     X\")\n",
        "\n",
        "    opcion = input(\"Digita Una Opcion: \")\n",
        "    if(opcion == \"1\"):\n",
        "        mostrar_inventario()\n",
        "    elif(opcion == \"2\"):\n",
        "        nombre = input(\"Nombre del producto: \")\n",
        "        precio = int(input(\"Precio del producto: \"))\n",
        "        cantidad = int(input(\"Cantidad del producto: \"))\n",
        "        agregar_producto(nombre,precio,cantidad)\n",
        "    elif(opcion == \"3\"):\n",
        "        nombre = input(\"Nombre del producto: \")\n",
        "        eliminar_producto(nombre)\n",
        "    elif(opcion == \"4\"):\n",
        "        nombre = input(\"Nombre del producto: \")\n",
        "        if(existe(nombre)==False):continue\n",
        "        nuevo_nombre = input(\"Nuevo nombre del producto: \")\n",
        "        nuevo_precio = int(input(\"nuevo precio del producto: \"))\n",
        "        actualizar_producto(nombre,nuevo_nombre,nuevo_precio)\n",
        "    elif(opcion == \"X\"):\n",
        "        print(\"----------- Salistesss ------------\")\n",
        "        break\n",
        "    else:\n",
        "        print(\"---------Opcion no existe-----------\")\n"
      ],
      "metadata": {
        "id": "4wL5vfkUTH8H"
      },
      "execution_count": null,
      "outputs": []
    },
    {
      "cell_type": "markdown",
      "source": [],
      "metadata": {
        "id": "vnlqiWJgTykZ"
      }
    }
  ]
}