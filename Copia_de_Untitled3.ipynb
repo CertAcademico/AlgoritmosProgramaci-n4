{
  "nbformat": 4,
  "nbformat_minor": 0,
  "metadata": {
    "colab": {
      "provenance": []
    },
    "kernelspec": {
      "name": "python3",
      "display_name": "Python 3"
    },
    "language_info": {
      "name": "python"
    }
  },
  "cells": [
    {
      "cell_type": "markdown",
      "source": [
        "**Proyecto de algoritmos y programación**\n",
        "\n",
        "        \n",
        "*Se desea imprementar un programa para que un robot ayude a pasar la calle a personas con dificultades para movilizarse por la ciudad.*\n",
        "\n",
        "\n",
        "1. **Importar las bibliotecas necesarias:**\n",
        "   \n",
        "   from gpiozero import DistanceSensor,Robot\n",
        "   from time import sleep\n",
        "   \n",
        " - En esta sección, importamos las bibliotecas GPIO Zero para controlar los pines GPIO y el sensor de distancia ultrasónico, así como la biblioteca sleep para pausas en el programa.\n",
        "\n",
        "\n",
        "\n",
        "  - GPIO: Se refiere a los pines que pueden ser programados para funcionar como entradas o salidas digitales, permitiendo la interacción con componentes electrónicos externos.\n",
        "\n",
        "\n",
        "\n",
        "  - Gpiocero: Es un nombre de variable o constante específico en el código que hace referencia a un pin GPIO en particular\n",
        "\n",
        "\n",
        "\n",
        " - \"Sleep\": Es una función que pausa la ejecución de un programa por un período de tiempo específico.\n",
        "\n",
        "\n",
        "\n",
        "2. **Configurar el sensor de ultrasonido y los motores del robot:**\n",
        "   \n",
        " robot = Robot(left=(4, 14), right=(17, 18))\n",
        "\n",
        "   \n",
        "   Aquí inicializamos el sensor de ultrasonido con los pines GPIO específicos y configuramos los motores del robot para su control.\n",
        "\n",
        "3. **Definir la función principal para ayudar a cruzar:**\n",
        "   \n",
        "   def ayudar_a_cruzar():\n",
        "       while True:\n",
        "           distancia = sensor.distance * 100\n",
        "           if distancia < 50:\n",
        "               robot.stop()\n",
        "               print(\"Esperando a peatones...\")\n",
        "               sleep(5)\n",
        "           else:\n",
        "               robot.forward()\n",
        "               print(\"Caminando hacia la intersección...\")\n",
        "               sleep(1)\n",
        "   \n",
        "   En esta función, el robot verifica continuamente la distancia medida por el sensor de ultrasonido. Si la distancia es menor a 50 cm, el robot se detiene y espera 5 segundos para permitir que los peatones crucen. Si no hay peatones cercanos, el robot avanza hacia la intersección durante 1 segundo.\n",
        "\n",
        "4. **Ejecutar la función principal y detener el robot al finalizar:**\n",
        "   \n",
        "   try:\n",
        "       ayudar_a_cruzar()\n",
        "   finally:\n",
        "       robot.stop()\n",
        "      \n",
        "- \"Try\": S e utiliza para envolver un código que podría generar una excepción.\n",
        "   \n",
        "   Aquí llamamos a la función principal ayudar_a_cruzar() dentro de un bloque try y detenemos el robot al finalizar el programa, asegurándonos de que los motores se apaguen correctamente.\n",
        "\n",
        "\n",
        "   ***Prototipo del robot***\n",
        "\n",
        "   https://vm.tiktok.com/ZMMHtRQwQ/\n",
        "\n"
      ],
      "metadata": {
        "id": "bmkseMmy_7dM"
      }
    },
    {
      "cell_type": "code",
      "source": [
        "from gpiozero import DistanceSensor, Robot\n",
        "from time import sleep\n",
        "\n",
        "# Configurar el sensor de ultrasonido\n",
        "sensor = DistanceSensor(echo=18, trigger=17)\n",
        "\n",
        "# Configurar los motores del robot\n",
        "robot = Robot(left=(4, 14), right=(17, 18))\n",
        "\n",
        "# Función para controlar el comportamiento del robot\n",
        "def ayudar_a_cruzar():\n",
        "    while True:\n",
        "        distancia = sensor.distance * 100  # Convertir la distancia a centímetros\n",
        "        if distancia < 50:  # Si la distancia es menor a 50 cm, detener al robot\n",
        "            robot.stop()\n",
        "            print(\"Esperando a peatones...\")\n",
        "            sleep(5)  # Esperar 5 segundos para permitir que los peatones crucen\n",
        "        else:  # Si no hay peatones cercanos, avanzar hacia la intersección\n",
        "            robot.forward()\n",
        "            print(\"Caminando hacia la intersección...\")\n",
        "            sleep(1)\n",
        "\n",
        "try:\n",
        "    ayudar_a_cruzar()  # Llamar a la función principal\n",
        "finally:\n",
        "    robot.stop()  # Detener el robot al finalizar el programa\n"
      ],
      "metadata": {
        "id": "paikhUndJm8U"
      },
      "execution_count": null,
      "outputs": []
    }
  ]
}