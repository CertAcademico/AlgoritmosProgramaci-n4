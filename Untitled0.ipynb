{
  "nbformat": 4,
  "nbformat_minor": 0,
  "metadata": {
    "colab": {
      "provenance": [],
      "authorship_tag": "ABX9TyPeWAfYDf6pqENoIA2RcXY8",
      "include_colab_link": true
    },
    "kernelspec": {
      "name": "python3",
      "display_name": "Python 3"
    },
    "language_info": {
      "name": "python"
    }
  },
  "cells": [
    {
      "cell_type": "markdown",
      "metadata": {
        "id": "view-in-github",
        "colab_type": "text"
      },
      "source": [
        "<a href=\"https://colab.research.google.com/github/CertAcademico/AlgoritmosProgramaci-n4/blob/main/Untitled0.ipynb\" target=\"_parent\"><img src=\"https://colab.research.google.com/assets/colab-badge.svg\" alt=\"Open In Colab\"/></a>"
      ]
    },
    {
      "cell_type": "code",
      "execution_count": 1,
      "metadata": {
        "colab": {
          "base_uri": "https://localhost:8080/"
        },
        "id": "GBm4O9EQOJhF",
        "outputId": "b68127d1-3694-40a8-8663-19a862fd25d2"
      },
      "outputs": [
        {
          "output_type": "stream",
          "name": "stdout",
          "text": [
            "Hola mundo\n"
          ]
        }
      ],
      "source": [
        "print (\"Hola mundo\")"
      ]
    },
    {
      "cell_type": "markdown",
      "source": [
        "**Este es un programa bonito que hice para el Profe**"
      ],
      "metadata": {
        "id": "2ok31AUoOcgh"
      }
    },
    {
      "cell_type": "code",
      "source": [
        "#El codig oqeu tengo es este\n",
        "print (\"Hola codigo\")\n"
      ],
      "metadata": {
        "colab": {
          "base_uri": "https://localhost:8080/"
        },
        "id": "HUL8ylCHOkMN",
        "outputId": "adcb9f49-3166-4bd8-fd46-8c508854386c"
      },
      "execution_count": 2,
      "outputs": [
        {
          "output_type": "stream",
          "name": "stdout",
          "text": [
            "Hola codigo\n"
          ]
        }
      ]
    }
  ]
}