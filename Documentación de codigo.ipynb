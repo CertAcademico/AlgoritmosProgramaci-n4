{
  "metadata": {
    "kernelspec": {
      "name": "python",
      "display_name": "Python (Pyodide)",
      "language": "python"
    },
    "language_info": {
      "codemirror_mode": {
        "name": "python",
        "version": 3
      },
      "file_extension": ".py",
      "mimetype": "text/x-python",
      "name": "python",
      "nbconvert_exporter": "python",
      "pygments_lexer": "ipython3",
      "version": "3.8"
    }
  },
  "nbformat_minor": 4,
  "nbformat": 4,
  "cells": [
    {
      "cell_type": "code",
      "source": "En esta celda, importamos las librerías necesarias para el programa: `requests` para realizar solicitudes HTTP, `BeautifulSoup` para analizar el contenido HTML y `FPDF` para generar el reporte en formato PDF.",
      "metadata": {
        "trusted": true
      },
      "outputs": [],
      "execution_count": null
    },
    {
      "cell_type": "code",
      "source": "# Importación de librerías\nimport requests  \nfrom bs4 import BeautifulSoup  \nfrom fpdf import FPDF",
      "metadata": {
        "trusted": true
      },
      "outputs": [],
      "execution_count": null
    },
    {
      "cell_type": "raw",
      "source": "Este fragmento de código define una clase llamada `PDF` que hereda de la clase \"FPDF\", que es una clase de la biblioteca \"fpdf\" utilizada para generar documentos PDF.\n\n1. def __init__(self, *args, **kwargs): Este es el método inicializador de la clase. Cuando se crea una nueva instancia de la clase \"PDF\", este método se ejecuta automáticamente. Los argumentos `*args` y `**kwargs` permiten que se pasen argumentos adicionales al inicializador de la clase padre `FPDF`.\n\n2. super().__init__(*args, **kwargs): Esta línea llama al método inicializador de la clase padre `FPDF`. Esto es necesario para asegurarse de que todas las inicializaciones necesarias en la clase padre se realicen correctamente.\n\n3. self.set_font(\"DejaVu\", \"\", 14): Este método establece la fuente que se utilizará en el documento PDF. En este caso, se está estableciendo la fuente \"DejaVuSansCondensed\" en su versión normal y con un tamaño de 14.\n",
      "metadata": {}
    },
    {
      "cell_type": "code",
      "source": "# Define una clase PDF que hereda de FPDF para personalizar el formato del PDF\n\nclass PDF(FPDF):\n    def __init__(self, *args, **kwargs):\n        super().__init__(*args, **kwargs)\n        # Agrega las fuentes \"DejaVu\" al PDF para utilizarlas en el texto\n        self.add_font(\"DejaVu\", \"\", \"DejaVuSansCondensed.ttf\", uni=True)\n        self.add_font(\"DejaVu\", \"B\", \"DejaVuSansCondensed-Bold.ttf\", uni=True)\n        self.add_font(\"DejaVu\", \"I\", \"DejaVuSansCondensed-Oblique.ttf\", uni=True)\n        self.set_font(\"DejaVu\", \"\", 14)  # Establece la fuente predeterminada del PDF",
      "metadata": {
        "trusted": true
      },
      "outputs": [],
      "execution_count": null
    },
    {
      "cell_type": "raw",
      "source": "En este fragmento se establece el encabezado de cada página del documento PDF.\n\nAquí hay un desglose de lo que hace el código:\n\n- self.set_font(\"DejaVu\", \"B\", 12): esta línea establece la fuente para el encabezado. La familia de fuentes es \"DejaVu\", el estilo es \"B\" (que significa negrita) y el tamaño es 12.\n\n- self.cell(0, 10, \"Reporte de Análisis de Contenido Web\", 0, 1, \"C\"): Esta línea crea una celda en el documento PDF. Los parámetros son los siguientes:\n  - 0: Este es el ancho de la celda. Cuando es 0, la celda se extiende hasta el margen derecho.\n  - 10: Esta es la altura de la celda.\n  - 0: Este es el borde de la celda. 0 significa que la celda no tendrá borde.\n  - 1: Este es el salto de línea. Este valor significa que el cursor se moverá a la siguiente línea después de la celda.\n  - C: Esta es la alineación del texto. 'C' significa que el texto estará centrado.\n",
      "metadata": {}
    },
    {
      "cell_type": "code",
      "source": "    # Define el encabezado del PDF\n    def header(self):\n        self.set_font('DejaVu', 'B', 12)\n        self.cell(0, 10, 'Reporte de Análisis de Contenido Web', 0, 1, 'C')\n",
      "metadata": {
        "trusted": true
      },
      "outputs": [],
      "execution_count": null
    },
    {
      "cell_type": "raw",
      "source": "En este fragmento se personaliza el pie de página de cada página del documento PDF. Aquí hay un desglose de lo que hace cada línea:\n\n- self.set_y(-15): Esto establece la posición del pie de página 15 unidades por encima de la parte inferior de la página. El valor negativo se utiliza para contar desde la parte inferior de la página hacia arriba.\n\n- self.set_font(\"DejaVu\", \"I\", 8): Esto establece la fuente del pie de página en \"DejaVu\", en cursiva, con un tamaño de 8.\n\n- self.cell(0, 10, f\"Página {self.page_no()}\", 0, 0, \"C\"): Esto crea una celda que abarca el ancho de la página (ya que el ancho está establecido en 0), con una altura de 10 unidades. La celda contiene el texto \"Página {número de página}\", donde {número de página} se reemplaza con el número de página actual. La celda no tiene borde (ya que el borde está establecido en 0), no está rellena con ningún color (ya que el relleno está establecido en 0) y el texto está centrado (ya que alinear está establecido en \"C\").\n",
      "metadata": {}
    },
    {
      "cell_type": "code",
      "source": "    # Define el pie de página del PDF\n    def footer(self):\n        self.set_y(-15)\n        self.set_font(\"DejaVu\", \"I\", 8)\n        self.cell(0, 10, f\"Página {self.page_no()}\", 0, 0, \"C\")",
      "metadata": {
        "trusted": true
      },
      "outputs": [],
      "execution_count": null
    },
    {
      "cell_type": "raw",
      "source": "Este fragmento de código define una función llamada \"generar_reporte_pdf\" que toma dos argumentos: `informacion_relevante` y `nombre_archivo`. \n\n- informacion_relevante: Es una lista de cadenas de texto que contiene la información relevante que se desea incluir en el informe PDF.\n- nombre_archivo: Es una cadena de texto que especifica el nombre del archivo PDF que se generará. Si no se proporciona un nombre de archivo, el valor predeterminado es \"reporte_web.pdf\".\n\nLa función realiza las siguientes operaciones:\n\n- pdf = PDF(): Crea una nueva instancia de la clase `PDF` que se definió anteriormente. Esta instancia representa el documento PDF que se está creando.\n\n- pdf.add_page(): Añade una nueva página al documento PDF.\n\n- for info in informacion_relevante: Este bucle recorre cada elemento en la lista `informacion_relevante`. Cada elemento es una cadena de texto que contiene una pieza de información relevante.\n\n- pdf.set_margins(10, 10, 10): Establece los márgenes del documento PDF. Los tres argumentos representan el margen izquierdo, el margen superior y el margen derecho, respectivamente. Todos los márgenes se establecen en 10.\n\n- pdf.multi_cell(0, 10, info, 0, 1): Añade un bloque de texto al documento PDF. El primer argumento es el ancho del bloque de texto (0 significa que el bloque de texto se extenderá hasta el margen derecho del documento). El segundo argumento es la altura de cada línea de texto. El tercer argumento es la cadena de texto que se añadirá. Los dos últimos argumentos controlan el borde y el salto de línea después del bloque de texto, respectivamente.\n\n- pdf.output(nombre_archivo, \"F\"): Guarda el documento PDF en un archivo con el nombre especificado por \"nombre_archivo\". El segundo argumento, \"F\", indica que el documento PDF debe guardarse en un archivo.",
      "metadata": {}
    },
    {
      "cell_type": "code",
      "source": "# Define una función para generar el reporte en formato PDF\ndef generar_reporte_pdf(informacion_relevante, nombre_archivo=\"reporte_web.pdf\"):\n    pdf = PDF()  # Crea una instancia de la clase PDF\n    pdf.add_page()  # Añade una página al PDF\n    for info in informacion_relevante:\n        # Ajusta los márgenes y utiliza multi_cell para añadir texto al PDF\n        pdf.set_margins(10, 10, 10)\n        pdf.multi_cell(0, 10, info, 0, 1)\n    pdf.output(nombre_archivo, \"F\")  # Guarda el PDF con el nombre especificado",
      "metadata": {
        "trusted": true
      },
      "outputs": [],
      "execution_count": null
    },
    {
      "cell_type": "raw",
      "source": "La función \"analizar_contenido_web(url, palabras_clave)\" se utiliza para analizar el contenido de una página web. Toma dos parámetros: \"url\" y \"palabras_clave\" (palabras clave).\n\nLa función realiza una solicitud GET a la URL proporcionada utilizando el método \"requests.get(url)\". Si la solicitud tiene éxito, devolverá un objeto \"Respuesta\", que contiene la respuesta del servidor a la solicitud.\n\nEl método \"response.raise_for_status()\" se utiliza para comprobar si la solicitud fue exitosa. Si la solicitud no fue exitosa, este método generará una excepción HTTPError.\n\nLa función también incluye manejo de errores para dos tipos de excepciones:\n\n1. requests.ConnectionError: esta excepción se genera si hubo un problema con la conexión de red (por ejemplo, si la red no funciona o si el servidor no responde).\n\n2. requests.HTTPError: esta excepción se genera si se produce un error HTTP. El mensaje de error se imprime en la consola.\n\nSi se genera una excepción, la función imprimirá un mensaje de error y luego finalizará el programa usando la función \"exit()\".",
      "metadata": {}
    },
    {
      "cell_type": "code",
      "source": "# Define una función para analizar el contenido web en busca de palabras clave\ndef analizar_contenido_web(url, palabras_clave):\n    try:\n        response = requests.get(url)  # Realiza una solicitud GET a la URL proporcionada\n        response.raise_for_status()  # Verifica si la solicitud fue exitosa\n    except requests.ConnectionError:\n        print(\"Error de conexión a la página.\")\n        exit()\n    except requests.HTTPError as e:\n        print(f\"Error HTTP: {e}\")\n        exit()",
      "metadata": {
        "trusted": true
      },
      "outputs": [],
      "execution_count": null
    },
    {
      "cell_type": "raw",
      "source": "Esta función va unida a la anterior. Se utiliza para analizar el contenido de una página web y extraer información relevante en función de una lista de palabras clave.\n\nA continuación se muestra un desglose de lo que hace esta parte específica de la función:\n\n1. if respuesta.status_code == 200: Esta línea verifica si la solicitud HTTP GET a la URL proporcionada fue exitosa. Un código de estado de 200 indica una solicitud HTTP exitosa.\n\n2. soup = BeautifulSoup(response.text, \"html.parser\"): Acá se utiliza BeautifulSoup para analizar el contenido HTML de la página web. \"response.text\" contiene el contenido HTML de la página.\n\n3. elementos = sopa.find_all([\"p\", \"h1\", \"h2\", \"h3\", \"h4\", \"h5\", \"h6\", \"meta\"])` Esta línea encuentra todo el HTML elementos que son etiquetas de párrafo (\"p\") o etiquetas de encabezado (\"h1\" a \"h6\") o metaetiquetas (\"meta\"). Estos elementos se almacenan en la lista \"elementos\".\n\n4. informacion_relevante = []: En esta parte se inicializa una lista vacía \"informacion_relevante\" que se utilizará para almacenar la información relevante que se encuentra en la página web.\n\nLa siguiente parte de la función (que no se muestra en su mensaje) probablemente recorrerá cada elemento en \"elementos\", verificará si contiene alguna de las palabras clave y, de ser así, la agregará a la lista \"informacion_relevante\".",
      "metadata": {}
    },
    {
      "cell_type": "code",
      "source": "    if response.status_code == 200:  # Verifica si la respuesta es válida (código 200)\n        soup = BeautifulSoup(response.text, \"html.parser\")  # Utiliza BeautifulSoup para analizar el HTML\n        elementos = soup.find_all([\"p\", \"h1\", \"h2\", \"h3\", \"h4\", \"h5\", \"h6\", \"meta\"])  # Encuentra elementos relevantes en el HTML\n        informacion_relevante = []  # Lista para almacenar la información relevante encontrada",
      "metadata": {
        "trusted": true
      },
      "outputs": [],
      "execution_count": null
    },
    {
      "cell_type": "raw",
      "source": "Este fragmento sigue unido a la función anterior. Esta función se utiliza para analizar el contenido de una página web y extraer información relevante en base a una lista de palabras clave (\"palabras_clave\").\n\nAquí hay una breve explicación de lo que hace esta parte de la función:\n\n1. Itera sobre cada elemento HTML en \"elementos\", que son las etiquetas HTML relevantes que se encuentran en el contenido de la página web.\n\n2. Para cada elemento, obtiene el contenido del texto. Si el elemento es una \"metaetiqueta\", obtiene el atributo \"contenido\".\n\n3. Comprueba si alguna de las palabras clave está presente en el contenido de texto del elemento (no distingue entre mayúsculas y minúsculas).\n\n4. Si se encuentra una palabra clave, agrega una cadena que contiene la información relevante a la lista \"informacion_relevante\".\n\n5. Después de iterar sobre todos los elementos, devuelve la lista \"informacion_relevante\".\n\n6. Si hubo un error al obtener la página web (es decir, el código de estado HTTP no es 200), imprime un mensaje de error y devuelve una lista vacía.",
      "metadata": {}
    },
    {
      "cell_type": "code",
      "source": "        for elemento in elementos:\n            texto_elemento = elemento.text if elemento.name != \"meta\" else elemento.get(\"content\", \"\")  # Obtiene el texto del elemento HTML\n            if any(palabra.lower() in texto_elemento.lower() for palabra in palabras_clave):  # Verifica si alguna palabra clave está presente en el texto\n                informacion_relevante.append(f\"Información relevante encontrada: {texto_elemento}\")  # Agrega la información relevante a la lista\n        return informacion_relevante  # Devuelve la lista de información relevante\n    else:\n        print(f\"Error al obtener la página: {response.status_code}\")\n        return []  # Si ocurre un error, devuelve una lista vacía",
      "metadata": {
        "trusted": true
      },
      "outputs": [],
      "execution_count": null
    },
    {
      "cell_type": "raw",
      "source": "La línea \"if __name__ == \"__main__\":\" verifica si este script está siendo ejecutado directamente por el usuario o si otro script lo está importando como un módulo.\n\nEl código bajo el bloque \"if __name__ == \"__main__\": solo se ejecutará si el script se ejecuta directamente, no cuando se importa como un módulo.",
      "metadata": {}
    },
    {
      "cell_type": "code",
      "source": "if __name__ == \"__main__\":\n    # Solicita al usuario que ingrese la URL de la página web a analizar\n    url = input(\"Introduce la URL: \")",
      "metadata": {
        "trusted": true
      },
      "outputs": [],
      "execution_count": null
    },
    {
      "cell_type": "raw",
      "source": "Este fragmento de código define una lista llamada \"palabras_clave\". Esta lista contiene varias cadenas de texto que representan las palabras clave que se buscarán en el contenido de la página web.\n\nLa lista \"palabras_clave\" se utiliza en la función \"analizar_contenido_web\" para buscar estas palabras clave en el contenido de la página web. Si alguna de estas palabras clave se encuentra en el texto de un elemento HTML, esa información se considera relevante y se agrega a la lista \"informacion_relevante\".",
      "metadata": {}
    },
    {
      "cell_type": "code",
      "source": "   # Palabras clave a buscar en el análisis de contenido\n    palabras_clave = [\"ciberseguridad\", \"seguridad informática\", \"ataque cibernético\", \"hackeo\", \"ataque informático\", \"ataque de inteligencia artificial\", \"ataque de inteligencia\", \"robo de datos\", \"robo de información\", \"ciberdelincuencia\", \"ciberdelincuente\"]",
      "metadata": {
        "trusted": true
      },
      "outputs": [],
      "execution_count": null
    },
    {
      "cell_type": "raw",
      "source": "Esta línea de código está llamando a la función \"analizar_contenido_web(url, palabras_clave)\", que está definida anteriormente en el script. Esta función toma dos argumentos: \"url\" y \"palabras_clave\".\n\nLa función \"analizar_contenido_web(url, palabras_clave)\" envía una solicitud GET a la URL especificada, analiza el contenido HTML de la página web y busca las palabras clave especificadas en el contenido. Si se encuentra una palabra clave, la información relevante se agrega a una lista.\n\nEl resultado de esta llamada a función es una lista de información relevante, que se almacena en la variable \"informacion_relevante\". Esta lista se utilizará más adelante para generar un informe en PDF.",
      "metadata": {}
    },
    {
      "cell_type": "code",
      "source": "    # Realiza el análisis del contenido de la página web y obtiene la información relevante\n    informacion_relevante = analizar_contenido_web(url, palabras_clave)",
      "metadata": {
        "trusted": true
      },
      "outputs": [],
      "execution_count": null
    },
    {
      "cell_type": "raw",
      "source": "Este es el último fragmento del codigo, en donde se genera el archivo PDF con la información recopilada.\n\nEste fragmento de código es parte de la función principal del programa. Comprueba si se ha encontrado alguna información relevante del análisis del contenido web. Si lo hay, llama a la función \"generar_reporte_pdf(informacion_relevante)\" para generar un informe en PDF con la información relevante. Si no se encontró información relevante, imprime un mensaje que dice \"No se encontró información relevante\".",
      "metadata": {}
    },
    {
      "cell_type": "code",
      "source": "    # Genera un reporte en formato PDF con la información relevante encontrada\n    if informacion_relevante:\n        generar_reporte_pdf(informacion_relevante)\n    else:\n        print(\"No se encontró información relevante.\") # Si no se encontró información relevante",
      "metadata": {
        "trusted": true
      },
      "outputs": [],
      "execution_count": null
    },
    {
      "cell_type": "raw",
      "source": "Fin del codigo",
      "metadata": {}
    }
  ]
}